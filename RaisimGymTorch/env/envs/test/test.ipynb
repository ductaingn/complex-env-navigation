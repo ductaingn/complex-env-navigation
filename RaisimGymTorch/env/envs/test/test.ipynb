{
 "cells": [
  {
   "cell_type": "code",
   "execution_count": 2,
   "metadata": {},
   "outputs": [],
   "source": [
    "import torch\n",
    "import torch.nn as nn\n",
    "import RaisimGymTorch.algo.ppo.module as ppo_module"
   ]
  },
  {
   "cell_type": "code",
   "execution_count": 4,
   "metadata": {},
   "outputs": [
    {
     "data": {
      "text/plain": [
       "<All keys matched successfully>"
      ]
     },
     "execution_count": 4,
     "metadata": {},
     "output_type": "execute_result"
    }
   ],
   "source": [
    "command_tracking_policy = ppo_module.MLP((128,128), nn.LeakyReLU,\n",
    "                                         84, 12)\n",
    "command_tracking_policy.load_state_dict(torch.load('/home/nguyen/Projects/ChargingRobot/raisim/raisimLib/complex-env-navigation/data/command_tracking_flat/final/full_16200.pt', map_location='cpu')['actor_architecture_state_dict'])"
   ]
  }
 ],
 "metadata": {
  "kernelspec": {
   "display_name": "quadruped_nav",
   "language": "python",
   "name": "python3"
  },
  "language_info": {
   "codemirror_mode": {
    "name": "ipython",
    "version": 3
   },
   "file_extension": ".py",
   "mimetype": "text/x-python",
   "name": "python",
   "nbconvert_exporter": "python",
   "pygments_lexer": "ipython3",
   "version": "3.8.20"
  }
 },
 "nbformat": 4,
 "nbformat_minor": 2
}

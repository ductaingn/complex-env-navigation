{
 "cells": [
  {
   "cell_type": "code",
   "execution_count": 2,
   "metadata": {},
   "outputs": [],
   "source": [
    "import torch\n",
    "from RaisimGymTorch.env.envs.train.model import Forward_Dynamics_Model\n",
    "from ruamel.yaml import YAML, dump, RoundTripDumper"
   ]
  },
  {
   "cell_type": "code",
   "execution_count": 7,
   "metadata": {},
   "outputs": [],
   "source": [
    "cfg = YAML().load(open(\"/home/nguyen/Projects/ChargingRobot/raisim/raisimLib/complex-env-navigation/RaisimGymTorch/env/envs/test/cfg.yaml\", 'r'))"
   ]
  },
  {
   "cell_type": "code",
   "execution_count": 9,
   "metadata": {},
   "outputs": [
    {
     "data": {
      "text/plain": [
       "<All keys matched successfully>"
      ]
     },
     "execution_count": 9,
     "metadata": {},
     "output_type": "execute_result"
    }
   ],
   "source": [
    "loaded_environment_model = Forward_Dynamics_Model(state_encoding_config=cfg[\"environment_model\"][\"architecture\"][\"state_encoder\"],\n",
    "                                                  command_encoding_config=cfg[\"environment_model\"][\"architecture\"][\"command_encoder\"],\n",
    "                                                  recurrence_config=cfg[\"environment_model\"][\"architecture\"][\"recurrence\"],\n",
    "                                                  prediction_config=cfg[\"environment_model\"][\"architecture\"][\"traj_predictor\"],\n",
    "                                                  device='cpu')\n",
    "loaded_environment_model.load_state_dict(torch.load(\"/home/nguyen/Projects/ChargingRobot/raisim/raisimLib/complex-env-navigation/data/FDM_train/2024-11-26-16-05-30/full_400.pt\", map_location='cpu')['model_architecture_state_dict'])"
   ]
  },
  {
   "cell_type": "code",
   "execution_count": null,
   "metadata": {},
   "outputs": [],
   "source": [
    "x = torch.rand()"
   ]
  },
  {
   "cell_type": "code",
   "execution_count": 10,
   "metadata": {},
   "outputs": [
    {
     "data": {
      "text/plain": [
       "Forward_Dynamics_Model(\n",
       "  (state_encoder): MLP(\n",
       "    (architecture): Sequential(\n",
       "      (0): Linear(in_features=450, out_features=256, bias=True)\n",
       "      (1): LeakyReLU(negative_slope=0.01)\n",
       "      (2): Linear(in_features=256, out_features=256, bias=True)\n",
       "      (3): BatchNorm1d(256, eps=1e-05, momentum=0.1, affine=True, track_running_stats=True)\n",
       "      (4): LeakyReLU(negative_slope=0.01)\n",
       "      (5): Dropout(p=0.2, inplace=False)\n",
       "      (6): Linear(in_features=256, out_features=128, bias=True)\n",
       "      (7): BatchNorm1d(128, eps=1e-05, momentum=0.1, affine=True, track_running_stats=True)\n",
       "      (8): LeakyReLU(negative_slope=0.01)\n",
       "      (9): Dropout(p=0.2, inplace=False)\n",
       "      (10): Linear(in_features=128, out_features=128, bias=True)\n",
       "      (11): BatchNorm1d(128, eps=1e-05, momentum=0.1, affine=True, track_running_stats=True)\n",
       "      (12): LeakyReLU(negative_slope=0.01)\n",
       "      (13): Dropout(p=0.2, inplace=False)\n",
       "      (14): Linear(in_features=128, out_features=100, bias=True)\n",
       "    )\n",
       "  )\n",
       "  (command_encoder): MLP(\n",
       "    (architecture): Sequential(\n",
       "      (0): Linear(in_features=3, out_features=32, bias=True)\n",
       "      (1): LeakyReLU(negative_slope=0.01)\n",
       "      (2): Linear(in_features=32, out_features=64, bias=True)\n",
       "    )\n",
       "  )\n",
       "  (recurrence): LSTM(64, 100, num_layers=2, dropout=0.2)\n",
       "  (Pcol_prediction): MLP(\n",
       "    (architecture): Sequential(\n",
       "      (0): Linear(in_features=100, out_features=64, bias=True)\n",
       "      (1): LeakyReLU(negative_slope=0.01)\n",
       "      (2): Linear(in_features=64, out_features=32, bias=True)\n",
       "      (3): BatchNorm1d(32, eps=1e-05, momentum=0.1, affine=True, track_running_stats=True)\n",
       "      (4): LeakyReLU(negative_slope=0.01)\n",
       "      (5): Dropout(p=0.2, inplace=False)\n",
       "      (6): Linear(in_features=32, out_features=16, bias=True)\n",
       "      (7): BatchNorm1d(16, eps=1e-05, momentum=0.1, affine=True, track_running_stats=True)\n",
       "      (8): LeakyReLU(negative_slope=0.01)\n",
       "      (9): Dropout(p=0.2, inplace=False)\n",
       "      (10): Linear(in_features=16, out_features=1, bias=True)\n",
       "    )\n",
       "  )\n",
       "  (coordinate_prediction): MLP(\n",
       "    (architecture): Sequential(\n",
       "      (0): Linear(in_features=100, out_features=64, bias=True)\n",
       "      (1): LeakyReLU(negative_slope=0.01)\n",
       "      (2): Linear(in_features=64, out_features=32, bias=True)\n",
       "      (3): BatchNorm1d(32, eps=1e-05, momentum=0.1, affine=True, track_running_stats=True)\n",
       "      (4): LeakyReLU(negative_slope=0.01)\n",
       "      (5): Dropout(p=0.2, inplace=False)\n",
       "      (6): Linear(in_features=32, out_features=16, bias=True)\n",
       "      (7): BatchNorm1d(16, eps=1e-05, momentum=0.1, affine=True, track_running_stats=True)\n",
       "      (8): LeakyReLU(negative_slope=0.01)\n",
       "      (9): Dropout(p=0.2, inplace=False)\n",
       "      (10): Linear(in_features=16, out_features=2, bias=True)\n",
       "    )\n",
       "  )\n",
       "  (sigmoid): Sigmoid()\n",
       ")"
      ]
     },
     "execution_count": 10,
     "metadata": {},
     "output_type": "execute_result"
    }
   ],
   "source": [
    "loaded_environment_model"
   ]
  },
  {
   "cell_type": "code",
   "execution_count": null,
   "metadata": {},
   "outputs": [],
   "source": []
  }
 ],
 "metadata": {
  "kernelspec": {
   "display_name": "quadruped_nav",
   "language": "python",
   "name": "python3"
  },
  "language_info": {
   "codemirror_mode": {
    "name": "ipython",
    "version": 3
   },
   "file_extension": ".py",
   "mimetype": "text/x-python",
   "name": "python",
   "nbconvert_exporter": "python",
   "pygments_lexer": "ipython3",
   "version": "3.8.20"
  }
 },
 "nbformat": 4,
 "nbformat_minor": 2
}

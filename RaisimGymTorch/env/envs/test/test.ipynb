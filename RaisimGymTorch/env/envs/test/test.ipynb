{
 "cells": [
  {
   "cell_type": "code",
   "execution_count": null,
   "metadata": {},
   "outputs": [
    {
     "data": {
      "text/plain": [
       "False"
      ]
     },
     "execution_count": 17,
     "metadata": {},
     "output_type": "execute_result"
    }
   ],
   "source": [
    "'3C8ABA187F32E5887F626A2C7B7654502B3A9C103D1A2EB8B5763220D8061F40F6606D0815B8DBB84702AB5021249A9043F6836CA194DF88857897D4E156C780' == '3C8ABA187F32E5887F626A2C7B7654502B3A9C103D1A2EB8B5763220D80600A0CDD80F30CBAEDBB84702AB5021249A9043F6836CA194DF88857897D4E156C780'"
   ]
  },
  {
   "cell_type": "code",
   "execution_count": 16,
   "metadata": {},
   "outputs": [
    {
     "name": "stdout",
     "output_type": "stream",
     "text": [
      "60 1\n",
      "61 F\n",
      "62 4\n",
      "64 F\n",
      "65 6\n",
      "66 6\n",
      "67 0\n",
      "68 6\n",
      "69 D\n",
      "70 0\n",
      "71 8\n",
      "72 1\n",
      "73 5\n",
      "74 B\n",
      "75 8\n"
     ]
    }
   ],
   "source": [
    "for i,c in enumerate('3C8ABA187F32E5887F626A2C7B7654502B3A9C103D1A2EB8B5763220D8061F40F6606D0815B8DBB84702AB5021249A9043F6836CA194DF88857897D4E156C780'):\n",
    "    if c != '3C8ABA187F32E5887F626A2C7B7654502B3A9C103D1A2EB8B5763220D80600A0CDD80F30CBAEDBB84702AB5021249A9043F6836CA194DF88857897D4E156C780'[i]:\n",
    "        print(i, c)"
   ]
  },
  {
   "cell_type": "code",
   "execution_count": 2,
   "metadata": {},
   "outputs": [],
   "source": [
    "import torch\n",
    "import torch.nn as nn\n",
    "import RaisimGymTorch.algo.ppo.module as ppo_module"
   ]
  },
  {
   "cell_type": "code",
   "execution_count": 4,
   "metadata": {},
   "outputs": [
    {
     "data": {
      "text/plain": [
       "<All keys matched successfully>"
      ]
     },
     "execution_count": 4,
     "metadata": {},
     "output_type": "execute_result"
    }
   ],
   "source": [
    "command_tracking_policy = ppo_module.MLP((128,128), nn.LeakyReLU,\n",
    "                                         84, 12)\n",
    "command_tracking_policy.load_state_dict(torch.load('/home/nguyen/Projects/ChargingRobot/raisim/raisimLib/complex-env-navigation/data/command_tracking_flat/final/full_16200.pt', map_location='cpu')['actor_architecture_state_dict'])"
   ]
  },
  {
   "cell_type": "code",
   "execution_count": 13,
   "metadata": {},
   "outputs": [
    {
     "data": {
      "text/plain": [
       "Sequential(\n",
       "  (0): Linear(in_features=84, out_features=128, bias=True)\n",
       "  (1): LeakyReLU(negative_slope=0.01)\n",
       "  (2): Linear(in_features=128, out_features=32, bias=True)\n",
       "  (3): LeakyReLU(negative_slope=0.01)\n",
       "  (4): Linear(in_features=32, out_features=4, bias=True)\n",
       ")"
      ]
     },
     "execution_count": 13,
     "metadata": {},
     "output_type": "execute_result"
    }
   ],
   "source": [
    "import torch\n",
    "import torch.nn as nn\n",
    "def init_weights(m):\n",
    "    if isinstance(m, nn.Linear):\n",
    "        torch.nn.init.xavier_uniform_(m.weight)\n",
    "        m.bias.data.fill_(0.01)\n",
    "\n",
    "command_tracking_policy = nn.Sequential(nn.Linear(84,128,), nn.LeakyReLU(), nn.Linear(128,32), nn.LeakyReLU(), nn.Linear(32,4))\n",
    "command_tracking_policy.apply(init_weights)"
   ]
  },
  {
   "cell_type": "code",
   "execution_count": 14,
   "metadata": {},
   "outputs": [],
   "source": [
    "torch.save(command_tracking_policy.state_dict(),'/home/nguyen/Projects/ChargingRobot/raisim/raisimLib/complex-env-navigation/data/command_tracking_flat/testing_2_layers/full_0.pt')"
   ]
  },
  {
   "cell_type": "code",
   "execution_count": 10,
   "metadata": {},
   "outputs": [],
   "source": [
    "import torch\n",
    "test = torch.rand((2,4))*100"
   ]
  },
  {
   "cell_type": "code",
   "execution_count": 12,
   "metadata": {},
   "outputs": [
    {
     "data": {
      "text/plain": [
       "array([[ 4.8852262, 48.69544  , 88.726875 , 22.116804 ],\n",
       "       [81.945625 , 61.310993 , 81.81577  , 45.464603 ]], dtype=float32)"
      ]
     },
     "execution_count": 12,
     "metadata": {},
     "output_type": "execute_result"
    }
   ],
   "source": [
    "test.detach().numpy()"
   ]
  }
 ],
 "metadata": {
  "kernelspec": {
   "display_name": "quadruped_nav",
   "language": "python",
   "name": "python3"
  },
  "language_info": {
   "codemirror_mode": {
    "name": "ipython",
    "version": 3
   },
   "file_extension": ".py",
   "mimetype": "text/x-python",
   "name": "python",
   "nbconvert_exporter": "python",
   "pygments_lexer": "ipython3",
   "version": "3.8.20"
  }
 },
 "nbformat": 4,
 "nbformat_minor": 2
}
